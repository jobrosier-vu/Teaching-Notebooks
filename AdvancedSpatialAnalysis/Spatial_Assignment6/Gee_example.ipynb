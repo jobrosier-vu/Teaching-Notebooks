{
  "nbformat": 4,
  "nbformat_minor": 0,
  "metadata": {
    "colab": {
      "name": "Gee_example",
      "provenance": [],
      "authorship_tag": "ABX9TyPX5jgsKSoiFyLw8TQ3L+1h",
      "include_colab_link": true
    },
    "kernelspec": {
      "name": "python3",
      "display_name": "Python 3"
    },
    "language_info": {
      "name": "python"
    }
  },
  "cells": [
    {
      "cell_type": "markdown",
      "metadata": {
        "id": "view-in-github",
        "colab_type": "text"
      },
      "source": [
        "<a href=\"https://colab.research.google.com/github/jobrosier-vu/Teaching-Notebooks/blob/main/AdvancedSpatialAnalysis/Spatial_Assignment6/Gee_example.ipynb\" target=\"_parent\"><img src=\"https://colab.research.google.com/assets/colab-badge.svg\" alt=\"Open In Colab\"/></a>"
      ]
    },
    {
      "cell_type": "markdown",
      "source": [
        "# Google Earth Engine (GEE) with Python"
      ],
      "metadata": {
        "id": "yZP7kWApCEhJ"
      }
    },
    {
      "cell_type": "markdown",
      "source": [
        "In the following example we are working with the Google Earth Engine (GEE) using the Python API. \n",
        "The goal of this example is to familiarize you with some of the data that can be found on the GEE and how to handle it.\n",
        "Some parts of the code used will be relativly complicated to understand. This is a concequence of how the data is structured in the GEE. For now it is not important to understand each line of code. The goal here is make sure you understand the general idea behind the operations and get an impression of what is possible with the GEE in combination with the Python API. For examples and tutorials please visit the [examples](https://github.com/giswqs/geemap/tree/master/examples) page"
      ],
      "metadata": {
        "id": "-8NWL1HTCHG0"
      }
    },
    {
      "cell_type": "markdown",
      "source": [
        "**Before you start**\n",
        "\n",
        "Before we start let's go over some core principles of the GEE\n",
        "- Using the API means that you are working on a GEE server. To distinguish between commands you make on your local machine and commands on the server the API requires you to add ee. before a command.   \n",
        "- Rasters are called Images and a collection of images is called an ImageCollection. Each image contains metadata such as it's crs, resolution, timestamp, etc. To find out more about an image you can print the metadata by using print(image_name.getInfo())   "
      ],
      "metadata": {
        "id": "nZnWIwmCBr2V"
      }
    },
    {
      "cell_type": "markdown",
      "source": [
        "Make sure to install the following packages in your environment before starting. These packages you will have to install every time you restart this notebook."
      ],
      "metadata": {
        "id": "bqkp1ugpCT1-"
      }
    },
    {
      "cell_type": "code",
      "execution_count": null,
      "metadata": {
        "id": "IcmLk5iq-uw_"
      },
      "outputs": [],
      "source": [
        "pip install geemap"
      ]
    },
    {
      "cell_type": "code",
      "source": [
        "# Import the following packages \n",
        "import geemap\n",
        "import ee\n",
        "import os"
      ],
      "metadata": {
        "id": "jESgVZZD_C5i"
      },
      "execution_count": null,
      "outputs": []
    },
    {
      "cell_type": "markdown",
      "source": [
        "In order to work with the GEE we need to authenticate first. Make sure you have a GEE account and copy paste the code after running the next code block.\n",
        "Note that you can use your VU e-mail for this, as this will give you access. Yet, a gmail account will also work."
      ],
      "metadata": {
        "id": "xo8PuKDDCk2P"
      }
    },
    {
      "cell_type": "code",
      "source": [
        "# Trigger the authentication flow.\n",
        "ee.Authenticate()\n",
        "\n",
        "# Initialize the library.\n",
        "ee.Initialize()"
      ],
      "metadata": {
        "id": "IxoIXR0i_IR6"
      },
      "execution_count": null,
      "outputs": []
    },
    {
      "cell_type": "markdown",
      "source": [
        "At this stage, you are connected ti GEE and you can effectively use Python to use the methods you can also use in GEE itself, but now via the Python API. Let's have a look."
      ],
      "metadata": {
        "id": "BNHIRZqNC123"
      }
    },
    {
      "cell_type": "markdown",
      "source": [
        "In this example we are going to visualize elevation and the max summer precipation data in the Netherlands. These datasets would, for instance, be interesting for a floodrisk assesment. To do this we need a precipitation dataset, an elevation dataset, and a dataset that contains boundaries of the Netherlands. To see all available datasets on the GEE go to the [catalog](https://developers.google.com/earth-engine/datasets/catalog) "
      ],
      "metadata": {
        "id": "HTwwDPtmCzjW"
      }
    },
    {
      "cell_type": "code",
      "source": [
        "# As elevation we use the SRTM Digital Elevation Data Version 4\n",
        "elevation = ee.Image('CGIAR/SRTM90_V4')\n",
        "\n",
        "# To select data only in the Netherlands we use the level0 boundaries.\n",
        "Boundaries = ee.FeatureCollection('FAO/GAUL/2015/level0')\n",
        "\n",
        "\"\"\"\n",
        "We choose the ERA5 Monthly Aggregates as precipitation data. From the catalog we can see the images in this collection\n",
        "have many bands, but we are only interested in the precipitation. Using .select(band_name) we can select the band in each \n",
        "image of the collection.\n",
        "\n",
        "\"\"\"\n",
        "precipitation_dataset = ee.ImageCollection(\"ECMWF/ERA5_LAND/MONTHLY_BY_HOUR\").select('total_precipitation')"
      ],
      "metadata": {
        "id": "wE1vRBwQ_REn"
      },
      "execution_count": null,
      "outputs": []
    },
    {
      "cell_type": "markdown",
      "source": [
        "We have a timeseries between 1979 and 2020-06, but in this case we are only interested in the maximum summer precipitation of the last 10 years.\n",
        "An ImageCollection can be filtered between a certain date range using 'filterDate' and a selection of months can be made by specifying a 'calanderRange'. Try different months or date ranges, but try not to select too much data as it will take longer to process."
      ],
      "metadata": {
        "id": "gs4QVfJTC633"
      }
    },
    {
      "cell_type": "code",
      "source": [
        "# We take months 7 till 9 as summer.\n",
        "filterMonth = ee.Filter.calendarRange(7, 9, 'month');\n",
        "precip_range = precipitation_dataset.filterDate('2010-01-01', '2020-01-01').filter(filterMonth)\n",
        "\n",
        "# From all selected months we want the maximum precipitation (mean/median/min are also possible, try to see the difference)\n",
        "precip_max = precip_range.max()"
      ],
      "metadata": {
        "id": "TQSo39W1_U4o"
      },
      "execution_count": null,
      "outputs": []
    },
    {
      "cell_type": "markdown",
      "source": [
        "To select a specific region we need to know the exact name. We can check the names by visualizing the boundaries on the map and use the map inspector to find the information we need."
      ],
      "metadata": {
        "id": "74DtQw7yC9tH"
      }
    },
    {
      "cell_type": "code",
      "source": [
        "# set our initial map parameters for The Netherlands. This is not required, but saves some zooming in later.\n",
        "center_lat = 52.36\n",
        "center_lon = 4.89\n",
        "zoomlevel=7\n",
        "\n",
        "# This will generate the basic map, but not visualize it\n",
        "Map = geemap.Map(center=[center_lat,center_lon], zoom=zoomlevel)\n",
        "\n",
        "# With addLayer we can add datasets to the map\n",
        "Map.addLayer(Boundaries)\n",
        "\n",
        "# To view the map simply type Map \n",
        "Map\n"
      ],
      "metadata": {
        "id": "psz0SyQa_YvZ"
      },
      "execution_count": null,
      "outputs": []
    },
    {
      "cell_type": "markdown",
      "source": [
        "By selecting the Inspector from the tools menu (right top in the map) we can click on a province to get information on the data. We need the name of the feature that contains the names of the countries, and the name of the country (Netherlands) we want to select. (Both datasets are global so make sure to try different countries to see the difference.) "
      ],
      "metadata": {
        "id": "Vm3NpZjsDCFF"
      }
    },
    {
      "cell_type": "code",
      "source": [
        "\"\"\"\n",
        "Filtering is done with the .filter feature and a filter equation. From the inspector we can see that the feature \n",
        "in the Boundaries layer related to the provinces is called ADM0_NAME, so we use this in the equation.\n",
        "\"\"\"\n",
        "netherlands = Boundaries.filter(ee.Filter.eq('ADM0_NAME', 'Netherlands'))"
      ],
      "metadata": {
        "id": "w-LXroN2_dH5"
      },
      "execution_count": null,
      "outputs": []
    },
    {
      "cell_type": "markdown",
      "source": [
        "With the selected regions we can now cut out our data. "
      ],
      "metadata": {
        "id": "iJtMPlGPDGrS"
      }
    },
    {
      "cell_type": "code",
      "source": [
        "# A single image can easily be clipped by using .clip() \n",
        "precip_max_NL = precip_max.clip(netherlands.geometry())\n",
        "\n",
        "elevation_NL = elevation.clip(netherlands.geometry())"
      ],
      "metadata": {
        "id": "agAoQYEy_fm2"
      },
      "execution_count": null,
      "outputs": []
    },
    {
      "cell_type": "code",
      "source": [
        "# In order to see the variation on the map we specify a min and max value for visualization. \n",
        "# Use the inspector tool to see if these are\n",
        "# chosen well.\n",
        "vis_precip = {\n",
        "    'min': 4,\n",
        "    'max': 7,\n",
        "    'palette': ['deebf7', '9ecae1', '3182bd']\n",
        "}\n",
        "\n",
        "#The data was in meter, but we want it in mm so we multiply by 1000\n",
        "Map.addLayer(precip_max_NL.multiply(ee.Number(1000)), vis_precip)"
      ],
      "metadata": {
        "id": "GenKL1Xf_hry"
      },
      "execution_count": null,
      "outputs": []
    },
    {
      "cell_type": "markdown",
      "source": [
        "Note that the map above is automatically updated."
      ],
      "metadata": {
        "id": "aHcqwpb7DOcX"
      }
    },
    {
      "cell_type": "code",
      "source": [
        "# Let's have another try with the elevation data of the Netherlands\n",
        "vis_elv = {\n",
        "    'min': -10,\n",
        "    'max': 150,\n",
        "    'palette': ['006633','E5FFCC','662A00','D8D8D8','F5F5F5']\n",
        "}\n",
        "\n",
        "Map.addLayer(elevation_NL, vis_elv)\n",
        "# use the layer button to turn of/on certain layers. this button is included in the toolbar"
      ],
      "metadata": {
        "id": "sKlxf99v_nAx"
      },
      "execution_count": null,
      "outputs": []
    },
    {
      "cell_type": "markdown",
      "source": [
        "In order to continue working with the data we can download the data.\n",
        "To export an image we need to provide at least the following things:\n",
        "- Region\n",
        "- scale (resolution)\n",
        "- filename\n",
        "- crs\n",
        "\n",
        "We can export data in different ways:\n",
        "- The Earth engine way is to export to your Google drive, from which you can download it to your PC.\n",
        "- The second way is to use the geemap export. By first defining an ouput directory and filename the data is directly dowloaded to your PC."
      ],
      "metadata": {
        "id": "oeB7INApDhOf"
      }
    },
    {
      "cell_type": "code",
      "source": [
        "\"\"\"\n",
        "# Export to drive\n",
        "# You can remove the quotation marks to actually use this option. \n",
        "# check at https://code.earthengine.google.com/ the status of the download\n",
        "task = ee.batch.Export.image.toDrive(image=precip_max_NL,\n",
        "                                     description='Precip_NL',\n",
        "                                     crs='EPSG:4326',\n",
        "                                     fileFormat='GeoTIFF',\n",
        "                                     folder=\"ASA\",\n",
        "                                     region=netherlands.geometry(),\n",
        "                                     scale=27784,\n",
        "                                     fileNamePrefix='Precip_NL',\n",
        "                                     maxPixels= 3784216672400,)\n",
        "task.start()\n",
        "\n",
        "\n",
        "\"\"\"\n",
        "\n",
        "# Export to the Google Colab Files folder\n",
        "\n",
        "filename = os.path.join('Precip_NL.tif')\n",
        "geemap.ee_export_image(precip_max_NL, filename=filename, scale=27784, region=netherlands.geometry(), file_per_band=False)\n"
      ],
      "metadata": {
        "id": "W5vzfo8bDkcE"
      },
      "execution_count": null,
      "outputs": []
    },
    {
      "cell_type": "markdown",
      "source": [
        ""
      ],
      "metadata": {
        "id": "5Uu0FJTcBqMF"
      }
    }
  ]
}