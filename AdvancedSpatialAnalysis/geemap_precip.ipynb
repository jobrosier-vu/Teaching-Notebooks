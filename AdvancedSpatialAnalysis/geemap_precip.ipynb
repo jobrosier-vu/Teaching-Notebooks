{
 "cells": [
  {
   "cell_type": "markdown",
   "metadata": {},
   "source": [
    "In this excercise we are working with the Google Earth engine"
   ]
  },
  {
   "cell_type": "code",
   "execution_count": 33,
   "metadata": {},
   "outputs": [],
   "source": [
    "import rioxarray as rio\n",
    "from rasterio.plot import show\n",
    "import matplotlib.pyplot as plt\n",
    "import numpy as np\n",
    "import geemap\n",
    "import ee\n",
    "import os"
   ]
  },
  {
   "cell_type": "code",
   "execution_count": 2,
   "metadata": {},
   "outputs": [
    {
     "data": {
      "text/html": [
       "<p>To authorize access needed by Earth Engine, open the following\n",
       "        URL in a web browser and follow the instructions:</p>\n",
       "        <p><a href=https://accounts.google.com/o/oauth2/auth?client_id=517222506229-vsmmajv00ul0bs7p89v5m89qs8eb9359.apps.googleusercontent.com&scope=https%3A%2F%2Fwww.googleapis.com%2Fauth%2Fearthengine+https%3A%2F%2Fwww.googleapis.com%2Fauth%2Fdevstorage.full_control&redirect_uri=urn%3Aietf%3Awg%3Aoauth%3A2.0%3Aoob&response_type=code&code_challenge=243p70Lhpdiuz5xWxKgJJ4NwDEznWirEFFMskElI2WQ&code_challenge_method=S256>https://accounts.google.com/o/oauth2/auth?client_id=517222506229-vsmmajv00ul0bs7p89v5m89qs8eb9359.apps.googleusercontent.com&scope=https%3A%2F%2Fwww.googleapis.com%2Fauth%2Fearthengine+https%3A%2F%2Fwww.googleapis.com%2Fauth%2Fdevstorage.full_control&redirect_uri=urn%3Aietf%3Awg%3Aoauth%3A2.0%3Aoob&response_type=code&code_challenge=243p70Lhpdiuz5xWxKgJJ4NwDEznWirEFFMskElI2WQ&code_challenge_method=S256</a></p>\n",
       "        <p>The authorization workflow will generate a code, which you\n",
       "        should paste in the box below</p>\n",
       "        "
      ],
      "text/plain": [
       "<IPython.core.display.HTML object>"
      ]
     },
     "metadata": {},
     "output_type": "display_data"
    },
    {
     "name": "stdout",
     "output_type": "stream",
     "text": [
      "Enter verification code: 4/1AX4XfWjwi0Xp81xuba5G3ldFCZngdD-_Ka4XyroaTwzJYn2Zry-hjE2KOQE\n",
      "\n",
      "Successfully saved authorization token.\n"
     ]
    }
   ],
   "source": [
    "# Trigger the authentication flow.\n",
    "ee.Authenticate()\n",
    "\n",
    "# Initialize the library.\n",
    "ee.Initialize()"
   ]
  },
  {
   "cell_type": "code",
   "execution_count": 3,
   "metadata": {},
   "outputs": [],
   "source": [
    "# Load the ERA5 Monthly Aggregates \n",
    "# A description can be found here: https://developers.google.com/earth-engine/datasets/catalog/ECMWF_ERA5_MONTHLY?hl=en#description\n",
    "# We are only interested in the precipitation, so we select that band.\n",
    "\n",
    "ERA5_precip = ee.ImageCollection(\"ECMWF/ERA5/MONTHLY\").select('total_precipitation')"
   ]
  },
  {
   "cell_type": "code",
   "execution_count": 4,
   "metadata": {},
   "outputs": [],
   "source": [
    "# We have a timeseries between 1979 and 2020-06, let's focus only on the summer precipitation of the last 10 years.\n",
    "# An ImageCollection can be filtered between a certain date range using filterDate and by specifying a calander range\n",
    "# a selection of months can be made. Try different months or date range, but try not to select too much data as it will take long to download\n",
    "\n",
    "filterMonth = ee.Filter.calendarRange(7, 9, 'month');\n",
    "ERA5_precip_range = ERA5_precip.filterDate('2010-01-01', '2020-01-01').filter(filterMonth)"
   ]
  },
  {
   "cell_type": "code",
   "execution_count": 5,
   "metadata": {},
   "outputs": [],
   "source": [
    "\"\"\"\n",
    "We are only interested in one precipitation map per year, so we average the ImageCollection over each summer.\n",
    "To do this we need to take three steps:\n",
    " - Make a 'list' of unique years\n",
    " - group the ImageCollection per year using the unique year list\n",
    " - take the average over each group and save the resulting image\n",
    "\"\"\"\n",
    "# the unqiue year list is made by the 'distinct' feature\n",
    "distinctYear = ERA5_precip_range.distinct('year');\n",
    "# To create groups per year we need a filter that compares the year of each image to the unique years\n",
    "filter = ee.Filter.equals(leftField= 'year',rightField= 'year');\n",
    "# The groups are saved as 'sameYear'\n",
    "join = ee.Join.saveAll('sameYear')\n",
    "\n",
    "# Apply the join and label each image based on the year\n",
    "joinCol = ee.ImageCollection(join.apply(distinctYear, ERA5_precip_range,filter))"
   ]
  },
  {
   "cell_type": "code",
   "execution_count": null,
   "metadata": {},
   "outputs": [],
   "source": [
    "print(joinCol.getInfo())"
   ]
  },
  {
   "cell_type": "code",
   "execution_count": 6,
   "metadata": {},
   "outputs": [],
   "source": [
    "def func_sma(img):\n",
    "  yearCol = ee.ImageCollection.fromImages(\n",
    "    img.get('sameYear')\n",
    "  )\n",
    "  return yearCol.mean().set('Year', img.get('year'))\n",
    "\n",
    "annualMonthlyMeanCol = joinCol.map(func_sma)"
   ]
  },
  {
   "cell_type": "code",
   "execution_count": null,
   "metadata": {},
   "outputs": [],
   "source": [
    "print(annualMonthlyMeanCol.getInfo())"
   ]
  },
  {
   "cell_type": "code",
   "execution_count": 7,
   "metadata": {},
   "outputs": [],
   "source": [
    "# We only want to work with a small part of the data, so we load a shapefile containing the borders of all countries in the world\n",
    "# Get a feature collection of administrative boundaries.\n",
    "Bounds = ee.FeatureCollection('FAO/GAUL/2015/level2')"
   ]
  },
  {
   "cell_type": "code",
   "execution_count": 8,
   "metadata": {},
   "outputs": [
    {
     "data": {
      "application/vnd.jupyter.widget-view+json": {
       "model_id": "769fb9b366564d9d95f37dc368b422f8",
       "version_major": 2,
       "version_minor": 0
      },
      "text/plain": [
       "Map(center=[52.36, 4.89], controls=(WidgetControl(options=['position', 'transparent_bg'], widget=HBox(children…"
      ]
     },
     "metadata": {},
     "output_type": "display_data"
    }
   ],
   "source": [
    "# To select a specific province we need to know the name. We can visualize the boundaries using the geemap Map Inspector\n",
    "# set our initial map parameters for The Netherlands\n",
    "center_lat = 52.36\n",
    "center_lon = 4.89\n",
    "zoomlevel=7\n",
    "\n",
    "Map = geemap.Map(center=[center_lat,center_lon], zoom=zoomlevel)\n",
    "Map.addLayer(Bounds)\n",
    "\n",
    "Map\n",
    "# By selecting the Inspector from the tools menu (right top in the map) we can click on a province to get information on the data\n",
    "# We need the name of the feature that contains the names of the provinces, and the names of the provinces we want to select."
   ]
  },
  {
   "cell_type": "code",
   "execution_count": 9,
   "metadata": {},
   "outputs": [],
   "source": [
    "# Now we know the name of the Provinces we want to select the precipitation data in the regions-of-interest\n",
    "# Here we selected Friesland and Limburg, but try different regions (does not need to be in the Netherlands)\n",
    "\n",
    "#Filtering is done with the .filter feature and a filter equation. From the inspector we can see that the feature \n",
    "# in the Bounds layer related to the provinces is called ADM1_NAME, so we use this in the equation.\n",
    "Friesland = Bounds.filter(ee.Filter.eq('ADM1_NAME', 'Friesland'))\n",
    "Limburg = Bounds.filter(ee.Filter.eq('ADM1_NAME', 'Limburg'))"
   ]
  },
  {
   "cell_type": "code",
   "execution_count": 10,
   "metadata": {},
   "outputs": [],
   "source": [
    "# With the selected regions we can now cut out our data. As explained earlier to apply an operation such as clip to an ImageCollection\n",
    "# we need to map it to all imagesin the collection using a function.\n",
    "\n",
    "# In order to use the same functions for different regions we add the geometry as a variable and need to create a nested function. \n",
    "# The lambda notation is a concise way to create a function in the Python API \n",
    "def Collection_clip(collection,geom): \n",
    "    \n",
    "    return collection.map(lambda image: image.clip(geom))\n",
    "\n",
    "# An alternative form would be:\n",
    "def Collection_clip2(collection,geom):\n",
    "    def im_clip(imgs):\n",
    "        return imgs.clip(geom)\n",
    "    return collection.map(im_clip)\n",
    "\n",
    "annualMonthlyMean_Frl = Collection_clip(annualMonthlyMeanCol,Friesland.geometry())\n",
    "annualMonthlyMean_Lmb = Collection_clip(annualMonthlyMeanCol,Limburg.geometry())"
   ]
  },
  {
   "cell_type": "code",
   "execution_count": 11,
   "metadata": {},
   "outputs": [],
   "source": [
    "# The precipitation data is still an ImageCollection that contains annually averaged precipitation data. \n",
    "# To visualize precipitation data on the map we have to reduce the ImageCollection to a single image using the average, for example \n",
    "# or for simplicity we can just select the first year.   \n",
    "\n",
    "# In order to see the variation on the map we specify a min and max value for visualization. Use the inspector tool to see if these are\n",
    "# chosen well.\n",
    "vis = {\n",
    "    'min': 0,\n",
    "    'max': 0.15\n",
    "}\n",
    "\n",
    "# Here we select the first year (2010) and add it to the excisting map \n",
    "Map.addLayer(annualMonthlyMean_Frl.first(), vis)\n",
    "Map.addLayer(annualMonthlyMean_Lmb.first(), vis)"
   ]
  },
  {
   "cell_type": "code",
   "execution_count": null,
   "metadata": {},
   "outputs": [],
   "source": [
    "Limburg.getInfo()"
   ]
  },
  {
   "cell_type": "code",
   "execution_count": null,
   "metadata": {},
   "outputs": [],
   "source": [
    "# In order to continue working with the data we download the data in two parts (one for each province)\n",
    "# Each ImageCollection contains 10 images, we could export each image separately or merge the collection in one image with 10 bands\n",
    "\n",
    "# To export an image we need to provide at least three things:\n",
    "# - Region\n",
    "# - scale (resolution)\n",
    "# - filename\n",
    "# - crs\n",
    "\n",
    "# We can export data at different ways. The Earth engine way is to export is to your Google drive, from which you can download it to your PC.\n",
    "# Export to drive\n",
    "# To save the ImageCollection as one image we use .toBands()\n",
    "\"\"\"\n",
    "task = ee.batch.Export.image.toDrive(image=annualMonthlyMean_Lmb.toBands(),\n",
    "                                     description='Precip_Lmb',\n",
    "                                     crs='EPSG:4326',\n",
    "                                     fileFormat='GeoTIFF',\n",
    "                                     folder=\"ASA\",\n",
    "                                     region=Limburg.geometry(),\n",
    "                                     scale=27784,\n",
    "                                     fileNamePrefix='Precip_Lmb',\n",
    "                                     maxPixels= 3784216672400,)\n",
    "task.start()\n",
    "\"\"\"\n",
    "\n",
    "# The second way is to use the geemap export. By first defining an ouput directory and filename the data is directly dowloaded to your PC.\n",
    "out_dir = os.path.join(os.path.expanduser('~'), 'Downloads')\n",
    "filename = os.path.join(out_dir, 'Precip_Lmb.tif')\n",
    "geemap.ee_export_image(annualMonthlyMean_Lmb.toBands(), filename=filename, scale=27784, region=Limburg.geometry(), file_per_band=False)"
   ]
  },
  {
   "cell_type": "code",
   "execution_count": null,
   "metadata": {},
   "outputs": [],
   "source": []
  }
 ],
 "metadata": {
  "kernelspec": {
   "display_name": "Python 3",
   "language": "python",
   "name": "python3"
  },
  "language_info": {
   "codemirror_mode": {
    "name": "ipython",
    "version": 3
   },
   "file_extension": ".py",
   "mimetype": "text/x-python",
   "name": "python",
   "nbconvert_exporter": "python",
   "pygments_lexer": "ipython3",
   "version": "3.7.7"
  }
 },
 "nbformat": 4,
 "nbformat_minor": 4
}
