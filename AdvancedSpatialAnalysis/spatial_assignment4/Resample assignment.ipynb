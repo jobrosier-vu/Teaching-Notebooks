{
 "cells": [
  {
   "cell_type": "markdown",
   "id": "aa79fc5f",
   "metadata": {},
   "source": [
    "# Resampling a raster\n",
    "Raster data doesn't always have the same spatial resolution. Therefore, resampling might be required. It is a rather basic task in any spatial analysis. The good thing about doing it in Python is that you can easily do it for many different rasters, and also that you can document it and automatically set the reference data (i.e. the raster data you want to use as the default for other rasters). "
   ]
  },
  {
   "cell_type": "code",
   "execution_count": null,
   "id": "c7329954",
   "metadata": {},
   "outputs": [],
   "source": [
    "# First we import the necessary packages\n",
    "# As you can see, we important a number of packages, while we only explain some of them. \n",
    "# Don't worry for now. We'll explain them all, but not all in this assignment. \n",
    "\n",
    "import rasterio                   #\n",
    "import rioxarray                  # \n",
    "import matplotlib.pyplot as plt   # this is used for plotting data- Nick will explain later.\n",
    "import numpy as np                # this is used for calculating with 2D tabels (arrays). Nick explained this week.\n"
   ]
  },
  {
   "cell_type": "markdown",
   "id": "43877924",
   "metadata": {},
   "source": [
    "### First, we need some data\n",
    "To start, we need some data to work with. Here I provide a number of data on Spain. The represent the a land cover map, and also the K-factor map and the R-factor map, for which you studied metadata last week. "
   ]
  },
  {
   "cell_type": "code",
   "execution_count": null,
   "id": "3e972a1f",
   "metadata": {},
   "outputs": [],
   "source": [
    "# The data is provided on canvas, and already clipped to the study area for your convenience (and to save some time). \n",
    "# First, download these data and place them on your HD. Subsequently, adjust the pathnames to these datasets. \n",
    "\n",
    "LC = # add a path to LandCover_EL.tif\n",
    "KF = # add a path to K_Factor_EL.tif\" \n"
   ]
  },
  {
   "cell_type": "code",
   "execution_count": null,
   "id": "430fc7d9",
   "metadata": {},
   "outputs": [],
   "source": [
    "# As you know by now, these are just the paths to the respective files. \n",
    "# Se we first open the files\n",
    "\n",
    "LC_raster = rioxarray.open_rasterio(LC,  masked=True) \n",
    "KF_raster = rioxarray.open_rasterio(KF,  masked=True)\n",
    "\n",
    "# masked=True will convert from integer to float64 and fill with NaN. \n",
    "# This is not strictkly needed for this assignment."
   ]
  },
  {
   "cell_type": "code",
   "execution_count": null,
   "id": "50039846",
   "metadata": {},
   "outputs": [],
   "source": [
    "# first, let's check some proprties of the data\n",
    "\n",
    "LCH = LC_raster.rio.height \n",
    "LCW = LC_raster.rio.width\n",
    "LCS = LC_raster.rio.shape #the dimensions of the dataset\n",
    "LCR = LC_raster.rio.resolution()\n",
    "\n",
    "print(LCH)\n",
    "print(LCW)\n",
    "print(LCS)\n",
    "print(LCR)\n"
   ]
  },
  {
   "cell_type": "code",
   "execution_count": null,
   "id": "4dbd749b",
   "metadata": {},
   "outputs": [],
   "source": [
    "# of course you don't need to store this information in a variable, you can also just print it dircetly. \n",
    "# Try for example the crs.\n",
    "print(LC_raster.rio.crs)"
   ]
  },
  {
   "cell_type": "code",
   "execution_count": null,
   "id": "683cf0f6",
   "metadata": {},
   "outputs": [],
   "source": [
    "# Now write some code here to check the same properties for the other dataset.\n",
    "\n",
    "print('Properties of the K-factor map')\n",
    "print(KF_raster.rio.shape)#the dimensions of the dataset\n",
    "print(KF_raster.rio.resolution())\n",
    "print(KF_raster.rio.crs)\n"
   ]
  },
  {
   "cell_type": "markdown",
   "id": "f5000570",
   "metadata": {},
   "source": [
    "If you do this correctly, you find that both datasets have different properties. This means we need to find ways to change this and ensure both datsets have the same spatial resolution. "
   ]
  },
  {
   "cell_type": "code",
   "execution_count": null,
   "id": "6b1ffe85",
   "metadata": {},
   "outputs": [],
   "source": [
    "# A simple way to adjust the spatial resolution of a raster is by defining the factor by which they need to be adjusted:\n",
    "\n",
    "factor = 2\n",
    "new_width = LC_raster.rio.width * factor\n",
    "new_height = LC_raster.rio.height * factor\n",
    "\n",
    "LC_upsampled = LC_raster.rio.reproject(\n",
    "    LC_raster.rio.crs,\n",
    "    shape=(new_height, new_width),\n",
    ")"
   ]
  },
  {
   "cell_type": "code",
   "execution_count": null,
   "id": "78c8f649",
   "metadata": {},
   "outputs": [],
   "source": [
    "# Now let's check the result\n",
    "\n",
    "print(LC_raster.rio.shape) #this is the original dataset\n",
    "print(LC_upsampled.rio.shape) #this is the original dataset\n"
   ]
  },
  {
   "cell_type": "code",
   "execution_count": null,
   "id": "11851eea",
   "metadata": {},
   "outputs": [],
   "source": [
    "# write a function that adjusts the resolution of the former to match the resolution of the latter.\n",
    "# base this function on the method used above, i.e. using numerical values.\n",
    "# make sure to store them in a new variable (such as LC_resampled)\n",
    "\n",
    "def resample1(raster1, raster2):\n",
    "    # add your code here\n",
    "    # use the approach that was shown in the example above\n",
    "    "
   ]
  },
  {
   "cell_type": "code",
   "execution_count": null,
   "id": "62f11e0a",
   "metadata": {},
   "outputs": [],
   "source": [
    "# Tis cell calls your function. Use the LC and KF rasters for this function\n",
    "\n",
    "# First, add your code here to determine which of the two is the reference raster (largest cell size),\n",
    "# and which is the raster to be adjusted (smallest cell size)\n",
    "\n",
    "resampledRaster = resample1(refRaster, projRaster)\n"
   ]
  },
  {
   "cell_type": "code",
   "execution_count": null,
   "id": "4a69f584",
   "metadata": {},
   "outputs": [],
   "source": [
    "# Of course you also want to check if your function works\n",
    "\n",
    "# To check, add some code here that prints the resolution of the resampledRaster and the reference raster."
   ]
  },
  {
   "cell_type": "markdown",
   "id": "d3d845aa",
   "metadata": {},
   "source": [
    "Thus far you (hopefully) used basic arithmic to calculate the factor by which the resolution was to be adjusted. This is a bit combersome, and you can do this more directly, as you can see in the example function below."
   ]
  },
  {
   "cell_type": "code",
   "execution_count": null,
   "id": "e7ab94ac",
   "metadata": {},
   "outputs": [],
   "source": [
    "# This functions directly mattcthes the resoltuion of both datasets\n",
    "\n",
    "def resample2(refRaster, projRaster):\n",
    "    reprojected_raster = projRaster.rio.reproject_match(refRaster)\n",
    "    return reprojected_raster\n"
   ]
  },
  {
   "cell_type": "code",
   "execution_count": null,
   "id": "f10be9c4",
   "metadata": {},
   "outputs": [],
   "source": [
    "# here we call the function.\n",
    "# note that this code assumes the refRaster and projRaster are still assigned correctly\n",
    "\n",
    "result = resample2(refRaster, projRaster)\n",
    "\n",
    "# let's check\n",
    "\n",
    "# Write a code here that returns \"True\" or \"False\", \n",
    "# Depending on whether the resolution of results equals that of the refRaster or not"
   ]
  }
 ],
 "metadata": {
  "kernelspec": {
   "display_name": "Python 3 (ipykernel)",
   "language": "python",
   "name": "python3"
  },
  "language_info": {
   "codemirror_mode": {
    "name": "ipython",
    "version": 3
   },
   "file_extension": ".py",
   "mimetype": "text/x-python",
   "name": "python",
   "nbconvert_exporter": "python",
   "pygments_lexer": "ipython3",
   "version": "3.7.12"
  }
 },
 "nbformat": 4,
 "nbformat_minor": 5
}
